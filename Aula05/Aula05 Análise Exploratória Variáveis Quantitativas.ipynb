{
 "cells": [
  {
   "cell_type": "markdown",
   "metadata": {},
   "source": [
    "___\n",
    "# Análise Exploratória: Variáveis quantitativas\n",
    "___\n",
    "\n",
    "## Aula 05\n",
    "\n",
    "\n",
    "\n",
    "**Preparo prévio:**\n",
    "1.\tLeitura prévia necessária: Magalhães e Lima (7ª. Edição): pág. 18 a 25; pág. 106 e 107 (Definição 4.1 e Exemplo 4.1); pág. 116 e 117 (Definição 4.4 e Exemplo 4.8). \n",
    "2. Leitura prévia necessária: Montgomery et al (5ª. Edição): pág. 24 a 28.\n",
    "\n",
    "**Hoje:**\n",
    "1. Desenvolver medidas que gerem informações para interpretação de variáveis quantitativas.\n",
    "2. Interpretar o comportamento de uma variável quantitativa a partir dos formatos de um histograma e/ou um box-plot.\n",
    "3. Comparar cenários, a partir dos gráficos e medidas calculadas, para tomada de decisão.\n",
    "\n",
    "\n",
    "**Próxima aula:**\n",
    "1. Leitura prévia necessária: Montgomery et al (5ª. Edição) - Seção 2.6: Dados Multivariados.\n",
    "___\n"
   ]
  },
  {
   "cell_type": "markdown",
   "metadata": {},
   "source": [
    "## <font color='blue'>Expectativa de Vida - LIFE</font>\n",
    "\n",
    "O Banco Mundial (http://data.worldbank.org/brazilian-portuguese) disponibiliza bases de dados estatísticos para um pouco mais de 200 países do mundo desde o ano 1800, as quais consideram uma seleção abrangente de indicadores econômicos, sociais e ambientais. Um desses indicadores é a expectativa de vida (em anos) de cada país.\n",
    "\n",
    "O arquivo `Life.xlsx` contém a expectativa de vida de vários países para os anos 1800, 1926 e 2000.\n",
    "\n",
    "Considerando esses dados, faça as seguintes tarefas:\n",
    "\n",
    "1.\tCalcule as medidas resumo principais (de posição e de dispersão). \n",
    "\n",
    "2.\tCalcule os percentis 10% a 90% das expectativas de vida de cada ano.\n",
    "\n",
    "3. Construa o gráfico de boxplot  para cada ano e interprete-o. \n"
   ]
  },
  {
   "cell_type": "code",
   "execution_count": null,
   "metadata": {
    "collapsed": true
   },
   "outputs": [],
   "source": [
    "%matplotlib inline\n",
    "import pandas as pd\n",
    "import matplotlib.pyplot as plt\n",
    "import os\n",
    "import numpy as np"
   ]
  },
  {
   "cell_type": "code",
   "execution_count": null,
   "metadata": {},
   "outputs": [],
   "source": [
    "print('Esperamos trabalhar no diretório')\n",
    "print(os.getcwd())"
   ]
  },
  {
   "cell_type": "code",
   "execution_count": null,
   "metadata": {
    "collapsed": true
   },
   "outputs": [],
   "source": [
    "dados = pd.read_excel('Life.xlsx')"
   ]
  },
  {
   "cell_type": "markdown",
   "metadata": {},
   "source": [
    "___\n",
    "# Medidas de posição e dispersão"
   ]
  },
  {
   "cell_type": "code",
   "execution_count": null,
   "metadata": {},
   "outputs": [],
   "source": [
    "#Via descrive()\n",
    "dados.describe()"
   ]
  },
  {
   "cell_type": "code",
   "execution_count": null,
   "metadata": {},
   "outputs": [],
   "source": [
    "#Medidas-resumo via comandos\n",
    "#std: desvio padrão\n",
    "#mad: desvio médio absoluto\n",
    "\n",
    "col = ['L1800','L1926','L2000']\n",
    "idx = ['mean','median','std','mad','var','count']\n",
    "df = pd.DataFrame(index=idx)\n",
    "\n",
    "for i in range(0, 3):\n",
    "    df[col[i]] = pd.Series([ dados[col[i]].mean(), \n",
    "                             dados[col[i]].median(), \n",
    "                             dados[col[i]].std(),\n",
    "                             dados[col[i]].mad(), \n",
    "                             dados[col[i]].var(), \n",
    "                             len(dados[col[i]]) \n",
    "                           ], index=idx)\n",
    "    \n",
    "print(df)"
   ]
  },
  {
   "cell_type": "markdown",
   "metadata": {},
   "source": [
    "___\n",
    "# Percentis de ordem p -\n",
    "\n",
    "### Valor que divide p% dos menores valores dos (1-p)% maiores valores!!"
   ]
  },
  {
   "cell_type": "code",
   "execution_count": null,
   "metadata": {},
   "outputs": [],
   "source": [
    "#Quantis  \n",
    "print(dados.quantile(np.arange(0,1.10,.10)))"
   ]
  },
  {
   "cell_type": "markdown",
   "metadata": {},
   "source": [
    "___\n",
    "\n",
    "## Boxplot para os anos 1800, 1926 e 2000"
   ]
  },
  {
   "cell_type": "code",
   "execution_count": null,
   "metadata": {},
   "outputs": [],
   "source": [
    "# Boxplot\n",
    "plot = dados.plot(kind='box',title='Expectativa de vida de países do mundo')#, color='red')\n",
    "plt.ylabel('(em anos)')\n",
    "plt.xlabel('Ano')\n",
    "plt.show()"
   ]
  },
  {
   "cell_type": "code",
   "execution_count": null,
   "metadata": {
    "scrolled": true
   },
   "outputs": [],
   "source": [
    "plot = dados.boxplot(column=['L1800','L1926','L2000'], figsize=(8,8))\n",
    "plt.ylabel('(em anos)')\n",
    "plt.xlabel('Ano')\n",
    "plt.show()"
   ]
  },
  {
   "cell_type": "code",
   "execution_count": null,
   "metadata": {
    "collapsed": true
   },
   "outputs": [],
   "source": []
  }
 ],
 "metadata": {
  "anaconda-cloud": {},
  "kernelspec": {
   "display_name": "Python 3",
   "language": "python",
   "name": "python3"
  },
  "language_info": {
   "codemirror_mode": {
    "name": "ipython",
    "version": 3
   },
   "file_extension": ".py",
   "mimetype": "text/x-python",
   "name": "python",
   "nbconvert_exporter": "python",
   "pygments_lexer": "ipython3",
   "version": "3.6.1"
  }
 },
 "nbformat": 4,
 "nbformat_minor": 1
}
