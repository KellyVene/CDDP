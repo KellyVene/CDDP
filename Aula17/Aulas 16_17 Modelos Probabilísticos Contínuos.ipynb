{
 "cells": [
  {
   "cell_type": "markdown",
   "metadata": {},
   "source": [
    "___\n",
    "# Modelos probabilísticos contínuos - Alguns resultados da aula\n",
    "___\n",
    "\n",
    "## Aulas 16 e 17\n",
    "\n",
    "**Preparo Prévio:**\n",
    "1.\tLeitura prévia necessária: Magalhães e Lima (7ª. Edição): Modelo Normal (pág. 197 a 203).\n",
    "\n",
    "**Hoje:**\n",
    "1.\tDescrever as propriedades do modelo normal quanto aos resultados teóricos.\n",
    "2. Utilizar modelos normais para resolução de problemas seja com ou sem uso do Python.\n",
    "3. Contrastar resultados teóricos e empíricos.\n",
    "\n",
    "\n",
    "**Próxima aula:**\n",
    "1.\tLeitura prévia necessária: Magalhães e Lima (7ª. Edição): Seção 5.1 (pág. 137) e Seção 5.2 (pág. 146).\n",
    "___"
   ]
  },
  {
   "cell_type": "markdown",
   "metadata": {},
   "source": [
    "___\n",
    "## <font color='blue'>Propriedades da distribuição Normal</font>\n",
    "\n",
    "> **DISTRIBUIÇÃO NORMAL - TEORIA:**\n",
    "\n",
    "> Seja $X$ uma variável aleatória contínua com média igual a $\\mu$ e variância igual a $\\sigma^2$. Se essa variável é modelada por uma distribuição normal, dizemos que $X$~$N(\\mu,\\sigma^2)$. \n",
    "\n",
    "> A função densidade de probabilidade - fdp (ou pdf, em inglês) de uma distribuição Normal é dada por:\n",
    "$f(x)=\\frac{1}{\\sqrt{2\\pi\\sigma^2}}e^{-\\frac{(x-\\mu)^2}{2\\sigma^2}}$, \n",
    "sendo $x\\in\\mathbb{R}$, $\\mu\\in\\mathbb{R}$ e $\\sigma^2>0$.\n",
    "\n",
    "> Alterando possíveis valores de $x$ em torno de $\\mu$ e calculando, para cada $x$, o respectivo valor de $f(x)$, é possível visualizar graficamente a famosa distribuição em forma de sino.\n",
    "\n",
    "\n",
    "> **DISTRIBUIÇÃO NORMAL - PYTHON:** <sup> [https://en.wikipedia.org/wiki/SciPy]\n",
    "\n",
    "> Algumas funções úteis para desenvolver seu código: <sup> [http://docs.scipy.org/doc/scipy/reference/generated/scipy.stats.norm.html]\n",
    "\n",
    "> Com a linha de comando `from scipy import stats` e assumindo que $E(X)=\\mu$ e $Var(X)=\\sigma^2$, alguns dos exemplos abaixo úteis para trabalhar com a distribuição normal no Python:\n",
    "* $f(x)$: `stats.norm.pdf(x, loc=mu, scale=sigma)`\n",
    "* $P(X\\leq x)$: `stats.norm.cdf(x, loc=mu, scale=sigma)`\n",
    "* $x$ tal que $P(X\\leq x)=p$: `stats.norm.ppf(p, loc=mu, scale=sigma)`\n",
    "\n",
    "\n"
   ]
  },
  {
   "cell_type": "code",
   "execution_count": null,
   "metadata": {},
   "outputs": [],
   "source": [
    "%matplotlib inline\n",
    "\n",
    "import os\n",
    "import matplotlib.pyplot as plt\n",
    "import pandas as pd\n",
    "from scipy import stats\n",
    "from numpy import mean, var, linspace\n",
    "\n",
    "print('Esperamos trabalhar no diretório')\n",
    "print(os.getcwd())"
   ]
  },
  {
   "cell_type": "markdown",
   "metadata": {},
   "source": [
    "___\n",
    "### <font color='green'>Gráfico distribuição Normal alterando valores para a média $\\mu$  e/ou  variância $\\sigma^2$ </font>\n"
   ]
  },
  {
   "cell_type": "code",
   "execution_count": null,
   "metadata": {},
   "outputs": [],
   "source": [
    "#Distribuição Normal \n",
    "#Média muda \n",
    "#Desvio padrão igual\n",
    "sigma = 10\n",
    "lista = (60, 70, 80)\n",
    "for mu in lista:\n",
    "    x=sorted(stats.norm.rvs(size=4000, loc=mu, scale=sigma))\n",
    "    plt.plot(x, stats.norm.pdf(x, loc=mu, scale=sigma), lw=3, alpha=0.6)\n",
    "    \n",
    "plt.title('Médias diferentes')\n",
    "plt.xlabel('valores de x')\n",
    "plt.ylabel('f(x)')\n",
    "plt.show()"
   ]
  },
  {
   "cell_type": "code",
   "execution_count": null,
   "metadata": {},
   "outputs": [],
   "source": [
    "#Distribuição Normal \n",
    "#Média igual\n",
    "#Desvio padrão muda\n",
    "mu = 70\n",
    "lista = (5, 10, 20)\n",
    "for sigma in lista:\n",
    "    x=sorted(stats.norm.rvs(size=4000, loc=mu, scale=sigma))\n",
    "    plt.plot(x, stats.norm.pdf(x, loc=mu, scale=sigma), lw=3, alpha=0.6)\n",
    "    \n",
    "plt.title('Desvios padrões diferentes')\n",
    "plt.xlabel('valores de x')\n",
    "plt.ylabel('f(x)')\n",
    "plt.show()"
   ]
  },
  {
   "cell_type": "markdown",
   "metadata": {},
   "source": [
    "___\n",
    "### <font color='green'> Propriedades da distribuição normal </font>"
   ]
  },
  {
   "cell_type": "code",
   "execution_count": null,
   "metadata": {},
   "outputs": [],
   "source": [
    "#Probabilidade de X estar entre mu mais ou menos c*sigma\n",
    "#Pode alterar valores de mu (média de X) e de sigma (desvio padrao de X)!\n",
    "#Alterações de mu e sigma NÃO alteram as probabilidades abaixo, pois trata-se de propriedade !!\n",
    "mu = 70\n",
    "sigma = 10\n",
    "print('Probabilidade de X acontecere considerando UM desvio padrão em torno da média:', \n",
    "      stats.norm.cdf(mu+sigma, loc=mu, scale=sigma)-stats.norm.cdf(mu-sigma, loc=mu, scale=sigma))\n",
    "\n",
    "print('Probabilidade de X acontecere considerando DOIS desvio padrão em torno da média:', \n",
    "      stats.norm.cdf(mu+2*sigma, loc=mu, scale=sigma)-stats.norm.cdf(mu-2*sigma, loc=mu, scale=sigma))\n",
    "\n",
    "print('Probabilidade de X acontecere considerando TRÊS desvio padrão em torno da média:', \n",
    "      stats.norm.cdf(mu+3*sigma, loc=mu, scale=sigma)-stats.norm.cdf(mu-3*sigma, loc=mu, scale=sigma))"
   ]
  },
  {
   "cell_type": "markdown",
   "metadata": {},
   "source": [
    "___\n",
    "## <font color='blue'>Exemplo 1 da Aula16 (pdf) </font>\n",
    "\n",
    "Uma loja de produtos automotivos  vende um certo lubrificante. Sempre que o estoque chega a 21 litros um novo pedido de compra é feito.  <br />\n",
    "O gerente da loja acha que a quantidade deixada em estoque até que o pedido do lubrificante seja entregue pode estar prejudicando suas vendas. Verificou-se que durante o período entre o pedido de compra e a entrega se consomem, em média, 15 litros de lubrificante, com desvio padrão de 6 litros. Verificou-se também que a distribuição de consumo neste período é bem aproximada por uma normal. <br />\n",
    "O valor deixado em estoque no momento do pedido é adequado?  <br />\n",
    "\n",
    "Vamos caracterizar a variável aleatória: X~N(15,36), onde X éVamos caracterizar a variável aleatória: X~N(15,36), onde X é consumo do lubrificante entre pedido e entrega (em litros).\n"
   ]
  },
  {
   "cell_type": "code",
   "execution_count": null,
   "metadata": {
    "collapsed": true
   },
   "outputs": [],
   "source": [
    "mu = 15\n",
    "sigma = 6"
   ]
  },
  {
   "cell_type": "code",
   "execution_count": null,
   "metadata": {},
   "outputs": [],
   "source": [
    "#Distribuição Normal com média 15 e desvio padrão 6\n",
    "x = linspace(15-4*sigma, 15+4*sigma, 1000)\n",
    "plt.plot(x, stats.norm.pdf(x, loc=mu, scale=sigma), lw=3, alpha=0.6)\n",
    "plt.title('')\n",
    "plt.xlabel('Quantidade de lubrificante')\n",
    "plt.ylabel('Densidade')\n",
    "plt.show()"
   ]
  },
  {
   "cell_type": "markdown",
   "metadata": {},
   "source": [
    "O gerente pretende demorar mais tempo até fazer novos pedidos de compra.<br />\n",
    "Logo, decide que um novo pedido de compra será feito sempre que o estoque chegar a 20 litros. <br />\n",
    "Calcule agora a probabilidade de que o estoque acabe antes de que o pedido chegue a loja?"
   ]
  },
  {
   "cell_type": "code",
   "execution_count": null,
   "metadata": {},
   "outputs": [],
   "source": []
  },
  {
   "cell_type": "markdown",
   "metadata": {},
   "source": [
    "Com quantos litros de lubrificante no estoque a loja de produtos automotivos deve fazer o pedido de compra de modo a ter no máximo 5% de probabilidade de ficar sem lubrificante?\n"
   ]
  },
  {
   "cell_type": "code",
   "execution_count": null,
   "metadata": {},
   "outputs": [],
   "source": []
  },
  {
   "cell_type": "markdown",
   "metadata": {},
   "source": [
    "___\n",
    "## <font color='blue'>Exemplo 2 da Aula16 (pdf) </font>\n",
    "Uma empresa automotiva diz que um determinado caminhão por ela produzido apresenta algum tipo de problema no motor após, em média, rodar 100 mil quilômetros, com um desvio padrão de 35 mil quilômetros.<br /> \n",
    "Além disso, acredita-se que a distribuição da distância percorrida antes de apresentar algum tipo de problema no motor (X) é bem aproximada por uma normal. \n"
   ]
  },
  {
   "cell_type": "code",
   "execution_count": null,
   "metadata": {
    "collapsed": true
   },
   "outputs": [],
   "source": [
    "mu=100\n",
    "sigma=35"
   ]
  },
  {
   "cell_type": "markdown",
   "metadata": {},
   "source": [
    "Sabendo que a garantia de um caminhão é dada apenas até completar 90 mil km, qual  a probabilidade de algum tipo de problema no motor acontecer após perder a garantia de fábrica?"
   ]
  },
  {
   "cell_type": "code",
   "execution_count": null,
   "metadata": {},
   "outputs": [],
   "source": []
  },
  {
   "cell_type": "markdown",
   "metadata": {},
   "source": [
    "Qual deve ser a garantia de um caminhão, se a probabilidade de apresentar algum tipo de problema no motor após perder a garantia de fábrica for, no máximo, 15%?"
   ]
  },
  {
   "cell_type": "code",
   "execution_count": null,
   "metadata": {},
   "outputs": [],
   "source": []
  },
  {
   "cell_type": "markdown",
   "metadata": {},
   "source": [
    "___\n",
    "## <font color='blue'>Exercício 3 da Aula16 (pdf) </font>\n",
    "As notas no quiz final de Ciência dos Dados distribuem-se segundo uma variável aleatória normal com média 6,5 e desvio padrão 1,6. \n",
    "O professor deseja dividir a classe em 3 categorias, da seguinte forma: \n",
    " - os 30% que tiveram as melhores notas serão aprovados, \n",
    " - os 50% com notas intermediárias ficarão de exame e \n",
    " - os 20% que tiveram as piores notas serão reprovados. \n"
   ]
  },
  {
   "cell_type": "code",
   "execution_count": null,
   "metadata": {
    "collapsed": true
   },
   "outputs": [],
   "source": [
    "mu=6.5\n",
    "sigma=1.6"
   ]
  },
  {
   "cell_type": "markdown",
   "metadata": {},
   "source": [
    "a. Quais os limites de nota entre cada uma das categorias?\n",
    "\n"
   ]
  },
  {
   "cell_type": "code",
   "execution_count": null,
   "metadata": {},
   "outputs": [],
   "source": []
  },
  {
   "cell_type": "markdown",
   "metadata": {},
   "source": [
    "b. Caso a nota para aprovação (sem ir para exame) fosse igual a 7,0 e uma turma tivesse 50 alunos, quantos desses seriam aprovados sem ir para o exame? "
   ]
  },
  {
   "cell_type": "code",
   "execution_count": null,
   "metadata": {},
   "outputs": [],
   "source": []
  },
  {
   "cell_type": "markdown",
   "metadata": {},
   "source": [
    "___\n",
    "## <font color='blue'>Exercício 6 da Aula16 (pdf) </font>\n",
    "Um determinado calçado é vendido em lojas populares e em lojas sofisticadas. De todas as lojas, 70%  são populares e 30%  são sofisticadas. Nas lojas populares seu preço segue uma distribuição normal com média 8 e desvio-padrão 1,2. Já em lojas sofisticadas, o preço também segue uma distribuição normal de média 16 e desvio-padrão 3.     \n"
   ]
  },
  {
   "cell_type": "code",
   "execution_count": null,
   "metadata": {
    "collapsed": true
   },
   "outputs": [],
   "source": []
  },
  {
   "cell_type": "markdown",
   "metadata": {},
   "source": [
    "a) Determine o primeiro quartil da distribuição de preços de uma loja popular."
   ]
  },
  {
   "cell_type": "code",
   "execution_count": null,
   "metadata": {},
   "outputs": [],
   "source": []
  },
  {
   "cell_type": "code",
   "execution_count": null,
   "metadata": {
    "collapsed": true
   },
   "outputs": [],
   "source": []
  },
  {
   "cell_type": "markdown",
   "metadata": {},
   "source": [
    "b) Gastou-se mais de '$10,00' para comprar o calçado. Qual é a probabilidade da compra ter sido feita numa loja popular?!"
   ]
  },
  {
   "cell_type": "code",
   "execution_count": null,
   "metadata": {
    "collapsed": true
   },
   "outputs": [],
   "source": []
  },
  {
   "cell_type": "code",
   "execution_count": null,
   "metadata": {},
   "outputs": [],
   "source": []
  },
  {
   "cell_type": "markdown",
   "metadata": {},
   "source": [
    "___\n",
    "## <font color='blue'>Padaria da Aula 17 (em pdf)</font>\n",
    "\n",
    "Uma empresa deve decidir onde construir uma padaria: <font color='green'>Bairro A </font> ou <font color='orange'> Bairro B </font>. \n",
    "\n",
    "Como ambos os bairros possuem densidades populacionais próximas, os investidores visam atingir um público alvo de maior renda familiar. \n",
    "Assim, quanto maior o número de famílias com rendas familiares mais altas, maior será a chance do empreendimento ser bem sucedido. \n",
    "\n",
    "Considerando que a decisão final seja baseada em informações sobre a renda familiar dos moradores desses dois bairros, responda:\n",
    "\n",
    "1. Calcule algumas medidas resumo úteis para entender o comportamento dessa variável em ambos os bairros. Analise.\n",
    "\n",
    "2. Construa o histograma dos dados e compare as distribuições de renda familiar (em mil reais) dos dois bairros. Qual é o melhor bairro para construir a padaria? Justifique.\n",
    "\n",
    "3. Assuma que $X$: renda familiar de um determinado bairro tenha $\\mu$ estimada pela média amostral ($\\bar{x}$) e tenha $\\sigma^2$ estimada pela variância amostral, ambas de um mesmo bairro em questão. Verifique, visualmente/graficamente, se a distribuição normal é adequada para estimar a renda familiar de cada bairro. Para isso, construa o histograma dos dados junto com a fdp da distribuição normal e analise.\n",
    "        \n",
    "4. Independente da sua resposta do item anterior, assuma que $X$: renda familiar de um determinado bairro segue uma distribuição normal considerando as estimativas amostrais como valores dos parâmetros de cada bairro. Nesse caso, para cada bairro, calcule:\n",
    "      1. probabilidade de uma família possuir renda familiar maior do que 17 mil reais.\n",
    "\n",
    "      2. sabendo que a famíliar tem mais do que 15 mil reais de renda familiar, qual a probabilidade dessa possuir renda inferior a 16 mil reais.\n",
    "      \n",
    "      3. qual a menor renda familiar dos 5% das famílias que mais ganham em cada bairro? \n",
    "\n"
   ]
  },
  {
   "cell_type": "code",
   "execution_count": null,
   "metadata": {
    "collapsed": true
   },
   "outputs": [],
   "source": [
    "pad = pd.read_excel('Padaria.xlsx')"
   ]
  },
  {
   "cell_type": "code",
   "execution_count": null,
   "metadata": {},
   "outputs": [],
   "source": []
  },
  {
   "cell_type": "code",
   "execution_count": null,
   "metadata": {},
   "outputs": [],
   "source": []
  },
  {
   "cell_type": "code",
   "execution_count": null,
   "metadata": {},
   "outputs": [],
   "source": []
  },
  {
   "cell_type": "code",
   "execution_count": null,
   "metadata": {
    "collapsed": true
   },
   "outputs": [],
   "source": []
  }
 ],
 "metadata": {
  "anaconda-cloud": {},
  "kernelspec": {
   "display_name": "Python 3",
   "language": "python",
   "name": "python3"
  },
  "language_info": {
   "codemirror_mode": {
    "name": "ipython",
    "version": 3
   },
   "file_extension": ".py",
   "mimetype": "text/x-python",
   "name": "python",
   "nbconvert_exporter": "python",
   "pygments_lexer": "ipython3",
   "version": "3.6.1"
  }
 },
 "nbformat": 4,
 "nbformat_minor": 1
}
